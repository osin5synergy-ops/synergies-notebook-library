{
 "cells": [
  {
   "cell_type": "code",
   "execution_count": null,
   "metadata": {},
   "outputs": [],
   "source": [
    "# CÉLULA ÚNICA: Configuração Padrão do Ambiente Synergies\\n",
    "\\n",
    "# --- 1. INSTALAÇÃO E ATUALIZAÇÃO DAS BIBLIOTECAS ---\\n",
    "!pip install --upgrade supabase openai langchain tiktoken langchain-openai beautifulsoup4 requests PyGithub -q\\n",
    "print(\"Bibliotecas instaladas e atualizadas.\")\\n",
    "\\n",
    "# --- 2. IMPORTAÇÕES PADRÃO ---\\n",
    "import os\\n",
    "import json\\n",
    "import requests\\n",
    "from bs4 import BeautifulSoup\\n",
    "from google.colab import userdata\\n",
    "from langchain.text_splitter import RecursiveCharacterTextSplitter\\n",
    "from langchain_openai import OpenAIEmbeddings\\n",
    "from supabase import create_client, Client\\n",
    "from github import Github\\n",
    "\\n",
    "print(\"Bibliotecas importadas com sucesso.\")\\n",
    "\\n",
    "# --- 3. CONFIGURAÇÃO DAS CHAVES DE API ---\\n",
    "try:\\n",
    "    OPENAI_API_KEY = userdata.get('OPENAI_API_KEY')\\n",
    "    if not OPENAI_API_KEY:\\n",
    "        raise ValueError(\"ERRO: Chave da API da OpenAI (OPENAI_API_KEY) não encontrada nos segredos do Colab.\")\\n",
    "\\n",
    "    SUPABASE_URL = userdata.get('SUPABASE_URL')\\n",
    "    SUPABASE_KEY = userdata.get('SUPABASE_KEY')\\n",
    "    if not SUPABASE_URL or not SUPABASE_KEY:\\n",
    "        raise ValueError(\"ERRO: Credenciais do Supabase não encontradas nos segredos do Colab.\")\\n",
    "\\n",
    "    GITHUB_PAT = userdata.get('GITHUB_PAT')\\n",
    "    if not GITHUB_PAT:\\n",
    "        raise ValueError(\"ERRO: Chave da API do GitHub (GITHUB_PAT) não encontrada nos segredos do Colab.\")\\n",
    "\\n",
    "    print(\"Chaves de API carregadas com sucesso.\")\\n",
    "\\n",
    "except Exception as e:\\n",
    "    raise ValueError(f\"ERRO na configuração das credenciais: {e}\")\\n",
    "\\n",
    "print(\"--- AMBIENTE SINÉRGICO CONFIGURADO COM SUCESSO ---\")"
   ]
  }
 ],
 "metadata": {
  "accelerator": "GPU",
  "colab": {
   "collapsed_sections": [],
   "name": "Synergies_Notebook_Template_v1.0",
   "private_outputs": true,
   "provenance": []
  },
  "kernelspec": {
   "display_name": "Python 3",
   "language": "python",
   "name": "python3"
  },
  "language_info": {
   "codemirror_mode": {
    "name": "ipython",
    "version": 3
   },
   "file_extension": ".py",
   "mimetype": "text/x-python",
   "name": "python",
   "nbconvert_exporter": "python",
   "pygments_lexer": "ipython3",
   "version": "3.10.12"
  }
 },
 "nbformat": 4,
 "nbformat_minor": 0
}
